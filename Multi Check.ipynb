{
 "cells": [
  {
   "cell_type": "code",
   "execution_count": 1,
   "id": "f27d13c8-0e94-4e7b-b2cf-a654c7b71c35",
   "metadata": {},
   "outputs": [],
   "source": [
    "#Global Stuff, usually this can just be ran without issues\n",
    "import base64\n",
    "import io\n",
    "from pprint import pprint\n",
    "from functions import *\n",
    "\n",
    "import requests\n",
    "from PIL import Image, PngImagePlugin\n",
    "\n",
    "url = \"http://127.0.0.1:7860\"  # Might need to change to your Stablediffusion UI Hostname/IP\n"
   ]
  },
  {
   "cell_type": "code",
   "execution_count": 2,
   "id": "adb2c2cd-c3d4-4de4-9690-5c6436020325",
   "metadata": {
    "tags": []
   },
   "outputs": [],
   "source": [
    "def initialise(seed, prompt, negative_prompt, steps, samplers=None):\n",
    "    \"\"\"\n",
    "    Function generates a default payload, and sets default sampler list if none is provided\n",
    "    \"\"\"\n",
    "    if seed == -1:\n",
    "        import random\n",
    "        seed = random.randint(1000000000, 10000000000)\n",
    "    payload = {\n",
    "        \"enable_hr\": False,\n",
    "        #\"denoising_strength\": 0,\n",
    "        #\"firstphase_width\": 0,\n",
    "        #\"firstphase_height\": 0,\n",
    "        \"prompt\": prompt,\n",
    "        \"negative_prompt\": negative_prompt,\n",
    "        #\"styles\": [\n",
    "        #  \"Good Baseline NSFW\",\n",
    "        #  \"Good Baseline NSFW\"\n",
    "        #],\n",
    "        \"seed\": seed,\n",
    "        #\"subseed\": -1,\n",
    "        #\"subseed_strength\": 0,\n",
    "        #\"seed_resize_from_h\": -1,\n",
    "        #\"seed_resize_from_w\": -1,\n",
    "        #\"sampler_name\": \"string\",\n",
    "        \"batch_size\": 1,\n",
    "        \"n_iter\": 1,\n",
    "        \"steps\": steps,\n",
    "        \"cfg_scale\": 7,\n",
    "        \"width\": 512,\n",
    "        \"height\": 512,\n",
    "        \"restore_faces\": False,\n",
    "        \"tiling\": False,\n",
    "        #\"eta\": 0,\n",
    "        #\"s_churn\": 0,\n",
    "        #\"s_tmax\": 0,\n",
    "        #\"s_tmin\": 0,\n",
    "        #\"s_noise\": 1,\n",
    "        #\"override_settings\": {},\n",
    "        \"sampler_index\": \"Euler a\"\n",
    "    }\n",
    "\n",
    "    if not samplers:\n",
    "        samplers = [\n",
    "            \"Euler a\",\n",
    "            \"Euler\",\n",
    "            \"LMS\",\n",
    "            \"Heun\",\n",
    "            \"LMS Karras\",\n",
    "            \"DPM fast\",\n",
    "            \"DPM adaptive\",\n",
    "            \"DPM2\",\n",
    "            \"DPM2 a\",\n",
    "            \"DPM2 Karras\",\n",
    "            \"DPM2 a Karras\",\n",
    "            \"DPM++ 2S a Karras\",\n",
    "            \"DPM++ 2M Karras\",\n",
    "            \"DPM++ 2S a\",\n",
    "            \"DPM++ 2M\",\n",
    "            \"DDIM\",\n",
    "            \"PLMS\"\n",
    "        ]\n",
    "    return payload, samplers"
   ]
  },
  {
   "cell_type": "markdown",
   "id": "d2813798-d772-483c-bdb9-b01b6f346f97",
   "metadata": {},
   "source": [
    "### Model Tester"
   ]
  },
  {
   "cell_type": "code",
   "execution_count": 3,
   "id": "0ba6a083-430e-4bd7-9480-b26811f061c1",
   "metadata": {
    "tags": []
   },
   "outputs": [
    {
     "name": "stdout",
     "output_type": "stream",
     "text": [
      "Change to model v1-5-pruned.ckpt [a9263745]\n"
     ]
    },
    {
     "ename": "NameError",
     "evalue": "name 'url' is not defined",
     "output_type": "error",
     "traceback": [
      "\u001b[1;31m---------------------------------------------------------------------------\u001b[0m",
      "\u001b[1;31mNameError\u001b[0m                                 Traceback (most recent call last)",
      "Input \u001b[1;32mIn [3]\u001b[0m, in \u001b[0;36m<cell line: 25>\u001b[1;34m()\u001b[0m\n\u001b[0;32m     24\u001b[0m \u001b[38;5;66;03m# Generate Images for each model and sampler\u001b[39;00m\n\u001b[0;32m     25\u001b[0m \u001b[38;5;28;01mfor\u001b[39;00m model \u001b[38;5;129;01min\u001b[39;00m models:\n\u001b[1;32m---> 26\u001b[0m     \u001b[43mgenerate_images\u001b[49m\u001b[43m(\u001b[49m\u001b[43murl\u001b[49m\u001b[43m,\u001b[49m\u001b[43m \u001b[49m\u001b[43msamplers\u001b[49m\u001b[43m,\u001b[49m\u001b[43m \u001b[49m\u001b[43mpayload\u001b[49m\u001b[43m,\u001b[49m\u001b[43m \u001b[49m\u001b[43mmodel\u001b[49m\u001b[43m)\u001b[49m\n",
      "File \u001b[1;32m~\\Documents\\git\\stable-diffusion-py\\functions.py:62\u001b[0m, in \u001b[0;36mgenerate_images\u001b[1;34m(url, samplers, payload, model, artists, keyword_test)\u001b[0m\n\u001b[0;32m     60\u001b[0m     pictures \u001b[38;5;241m=\u001b[39m \u001b[38;5;124m\"\u001b[39m\u001b[38;5;124mn/a\u001b[39m\u001b[38;5;124m\"\u001b[39m\n\u001b[0;32m     61\u001b[0m     training_steps \u001b[38;5;241m=\u001b[39m \u001b[38;5;124m\"\u001b[39m\u001b[38;5;124mn/a\u001b[39m\u001b[38;5;124m\"\u001b[39m\n\u001b[1;32m---> 62\u001b[0m \u001b[38;5;28;01mif\u001b[39;00m \u001b[43mset_model\u001b[49m\u001b[43m(\u001b[49m\u001b[43mmodel\u001b[49m\u001b[43m)\u001b[49m:\n\u001b[0;32m     63\u001b[0m     \u001b[38;5;28;01mfor\u001b[39;00m sampler \u001b[38;5;129;01min\u001b[39;00m samplers:\n\u001b[0;32m     64\u001b[0m         \u001b[38;5;28;01mif\u001b[39;00m sampler \u001b[38;5;241m==\u001b[39m \u001b[38;5;124m\"\u001b[39m\u001b[38;5;124mLMS Karras\u001b[39m\u001b[38;5;124m\"\u001b[39m \u001b[38;5;129;01mand\u001b[39;00m steps \u001b[38;5;241m>\u001b[39m\u001b[38;5;241m=\u001b[39m \u001b[38;5;241m90\u001b[39m:\n",
      "File \u001b[1;32m~\\Documents\\git\\stable-diffusion-py\\functions.py:36\u001b[0m, in \u001b[0;36mset_model\u001b[1;34m(model)\u001b[0m\n\u001b[0;32m     32\u001b[0m \u001b[38;5;28mprint\u001b[39m(\u001b[38;5;124mf\u001b[39m\u001b[38;5;124m\"\u001b[39m\u001b[38;5;124mChange to model \u001b[39m\u001b[38;5;132;01m{\u001b[39;00mmodel\u001b[38;5;132;01m}\u001b[39;00m\u001b[38;5;124m\"\u001b[39m)\n\u001b[0;32m     33\u001b[0m option_payload \u001b[38;5;241m=\u001b[39m {\n\u001b[0;32m     34\u001b[0m     \u001b[38;5;124m\"\u001b[39m\u001b[38;5;124msd_model_checkpoint\u001b[39m\u001b[38;5;124m\"\u001b[39m: model\n\u001b[0;32m     35\u001b[0m }\n\u001b[1;32m---> 36\u001b[0m response \u001b[38;5;241m=\u001b[39m requests\u001b[38;5;241m.\u001b[39mpost(url\u001b[38;5;241m=\u001b[39m\u001b[38;5;124mf\u001b[39m\u001b[38;5;124m'\u001b[39m\u001b[38;5;132;01m{\u001b[39;00murl\u001b[38;5;132;01m}\u001b[39;00m\u001b[38;5;124m/sdapi/v1/options\u001b[39m\u001b[38;5;124m'\u001b[39m, json\u001b[38;5;241m=\u001b[39moption_payload)\n\u001b[0;32m     37\u001b[0m \u001b[38;5;28;01mif\u001b[39;00m response\u001b[38;5;241m.\u001b[39mstatus_code \u001b[38;5;241m==\u001b[39m \u001b[38;5;241m200\u001b[39m:\n\u001b[0;32m     38\u001b[0m     \u001b[38;5;28;01mreturn\u001b[39;00m \u001b[38;5;28;01mTrue\u001b[39;00m\n",
      "\u001b[1;31mNameError\u001b[0m: name 'url' is not defined"
     ]
    }
   ],
   "source": [
    "# Some Prompt you want to use for Model Testing\n",
    "prompt = \"sports car, photorealistic, natural lighting, masterpiece, high quality, hi res, highres\"\n",
    "# Some Negative Prompt you want to use for Model Testing\n",
    "negative_prompt = \"deformed, blurry, bad, disfigured, poor, mutation, mutated, ugly, horror, out of focus, depth of field, focal blur, worst quality, low quality, normal quality, deformed, blurry, bad, disfigured, poor, mutation, mutated, ugly, horror, out of focus, depth of field, focal blur, worst quality, low quality, normal quality\"\n",
    "# Seed, if set to -1 autogenerate will be done\n",
    "seed = -1\n",
    "# How many Steps you want\n",
    "steps = 90\n",
    "# Which samplers you want to check\n",
    "# If none are supplied, it will default to all\n",
    "samplers = [\"Euler a\",\n",
    "            \"DPM++ 2S a Karras\",\n",
    "            \"DPM++ 2M Karras\",\n",
    "            \"DPM++ 2S a\",\n",
    "            \"DPM++ 2M\", ]\n",
    "# Names of the models you want to check in an array\n",
    "models = [\"v1-5-pruned.ckpt [a9263745]\",\n",
    "          \"sd-v1-4-full-ema.ckpt [06c50424]\",\n",
    "          \"v2-1_768-ema-pruned.ckpt [4bdfc29c]\"]\n",
    "# Get Payload and Sampler information from initialise function\n",
    "# You can also just do that by hand\n",
    "payload, samplers = initialise(seed, prompt, negative_prompt, steps, samplers)\n",
    "\n",
    "# Generate Images for each model and sampler\n",
    "for model in models:\n",
    "    generate_images(url, samplers, payload, model)"
   ]
  },
  {
   "cell_type": "markdown",
   "id": "d297ed8e-9247-43a2-a70c-341a070f3398",
   "metadata": {},
   "source": [
    "### Artist Tester"
   ]
  },
  {
   "cell_type": "code",
   "execution_count": null,
   "id": "aee90b41-e820-4021-85cf-6b2fb1f92860",
   "metadata": {
    "scrolled": true,
    "tags": []
   },
   "outputs": [],
   "source": [
    "# Array of artist you want to test against\n",
    "artists = [\"Michael & Inessa Garmash\",\n",
    "           \"Ruan Jia\",\n",
    "           \"Edmund Dulac\",\n",
    "           \"Rumiko Takahashi\",\n",
    "           \"Eileen Agar\",\n",
    "           \"Katsushika Hokusai\",\n",
    "           \"Hokusai\",\n",
    "           \"Nicolas Delort\",\n",
    "           \"Andy Kehoe\",\n",
    "           \"Conrad Roset\",\n",
    "           \"Helen Frankenthaler\",\n",
    "           \"Giotto Di Bondone\",\n",
    "           \"Takashi Murakami\",\n",
    "           \"Eduardo Paolozzi\",\n",
    "           \"Rebecca Louise Law\",\n",
    "           \"Harumi Hironaka\",\n",
    "           \"Alexander Calder\",\n",
    "           \"Charles Blackman\",\n",
    "           \"Jeremiah Ketner\",\n",
    "           \"Jim Mahfood\",\n",
    "           \"sepulte\",\n",
    "           \"pixelsketcher\",\n",
    "           \"inubashiri\",\n",
    "           \"personalami\",\n",
    "           \"chunie\",\n",
    "           \"Pino Daeni\",\n",
    "           \"Kentaro Miura\",\n",
    "           \"Carl Larsson\",\n",
    "           \"Bernard Buffet\",\n",
    "           \"Don Bluth\",\n",
    "           \"Naoko Takeuchi\",\n",
    "           \"Ethan Van Sciver\",\n",
    "           \"Barry Windsor Smith\",\n",
    "           \"Milton Caniff\",\n",
    "           \"Osamu Tezuka\",\n",
    "           \"Toei Animations\", ]\n",
    "\n",
    "# Sampler to use\n",
    "# I usually only take 1-2 different samplers\n",
    "samplers = [\"Euler a\"]\n",
    "# The Prompt to use with the artists\n",
    "prompt = \"sports car, photorealistic, natural lighting, masterpiece, high quality, hi res, highres\"\n",
    "# The Negative Prompt to use with the artists\n",
    "negative_prompt = \"deformed, blurry, bad, disfigured, poor, mutation, mutated, ugly, horror, out of focus, depth of field, focal blur, worst quality, low quality, normal quality, deformed, blurry, bad, disfigured, poor, mutation, mutated, ugly, horror, out of focus, depth of field, focal blur, worst quality, low quality, normal quality\"\n",
    "# Seed, if -1 it will be random\n",
    "seed = 4805326764\n",
    "# How many steps\n",
    "steps = 20\n",
    "# Which model to use, if None, it will just use whatever is loaded\n",
    "model = \"v2-1_768-ema-pruned.ckpt [4bdfc29c]\"\n",
    "\n",
    "# Get Payload and Sampler information from initialise function\n",
    "# You can also just do that by hand\n",
    "payload, samplers = initialise(seed, prompt, negative_prompt, steps, samplers)\n",
    "\n",
    "generate_images(url, samplers, payload, model=model, artists=artists)"
   ]
  },
  {
   "cell_type": "markdown",
   "id": "e52673aa-0d99-4499-9c1a-9dddd8eb33fe",
   "metadata": {},
   "source": [
    "### Prompt Tester"
   ]
  },
  {
   "cell_type": "code",
   "execution_count": null,
   "id": "1bbe8bda-02f3-4047-b536-f203d700e670",
   "metadata": {},
   "outputs": [],
   "source": [
    "# Prompt checker\n",
    "# Prompts to use for the prompt checker\n",
    "# This string will be split by \", \" and these prompts will be evaluated\n",
    "prompt = \"photorealistic, natural lighting, masterpiece, high quality, hi res, highres\"\n",
    "# Negative Prompts to add\n",
    "negative_prompt = \"deformed, blurry, bad, disfigured, poor, mutation, mutated, ugly, horror, out of focus, depth of field, focal blur, worst quality, low quality, normal quality, deformed, blurry, bad, disfigured, poor, mutation, mutated, ugly, horror, out of focus, depth of field, focal blur, worst quality, low quality, normal quality\"\n",
    "# How many steps you want to take\n",
    "steps = 60\n",
    "# Seed, if -1 it will be random\n",
    "seed = 4205326764\n",
    "# Sampler to use\n",
    "# I usually only take 1-2 different samplers\n",
    "samplers = [\"Euler a\"]\n",
    "# Which model to use, if None, it will just use whatever is loaded\n",
    "model = \"v2-1_768-ema-pruned.ckpt [4bdfc29c]\"\n",
    "# Static Keyword which will be tested with every split part of the prompt\n",
    "keyword_test=\"sports car\"\n",
    "# Get Payload and Sampler information from initialise function\n",
    "# You can also just do that by hand\n",
    "payload, samplers = initialise(seed, prompt, negative_prompt, steps, samplers)\n",
    "\n",
    "generate_images(url, samplers, payload, model=model, artists=None, keyword_test=keyword_test)"
   ]
  },
  {
   "cell_type": "code",
   "execution_count": null,
   "id": "157caf99-37ad-4747-ab96-ac3ff5227d24",
   "metadata": {},
   "outputs": [],
   "source": []
  }
 ],
 "metadata": {
  "kernelspec": {
   "display_name": "Python 3 (ipykernel)",
   "language": "python",
   "name": "python3"
  },
  "language_info": {
   "codemirror_mode": {
    "name": "ipython",
    "version": 3
   },
   "file_extension": ".py",
   "mimetype": "text/x-python",
   "name": "python",
   "nbconvert_exporter": "python",
   "pygments_lexer": "ipython3",
   "version": "3.10.8"
  }
 },
 "nbformat": 4,
 "nbformat_minor": 5
}
