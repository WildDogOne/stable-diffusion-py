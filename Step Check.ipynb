{
 "cells": [
  {
   "cell_type": "code",
   "execution_count": 2,
   "id": "c5dd5c2f-3c07-4097-ba2d-d272051c7051",
   "metadata": {},
   "outputs": [],
   "source": [
    "def generate_image(payload, outfile):\n",
    "    response = requests.post(url=f'{url}/sdapi/v1/txt2img', json=payload)\n",
    "\n",
    "    r = response.json()\n",
    "\n",
    "    for i in r['images']:\n",
    "        image = Image.open(io.BytesIO(base64.b64decode(i.split(\",\",1)[0])))\n",
    "\n",
    "        png_payload = {\n",
    "            \"image\": \"data:image/png;base64,\" + i\n",
    "        }\n",
    "        response2 = requests.post(url=f'{url}/sdapi/v1/png-info', json=png_payload)\n",
    "\n",
    "        pnginfo = PngImagePlugin.PngInfo()\n",
    "        pnginfo.add_text(\"parameters\", response2.json().get(\"info\"))\n",
    "        image.save('data/steps/'+str(outfile)+'.png', pnginfo=pnginfo)"
   ]
  },
  {
   "cell_type": "code",
   "execution_count": 3,
   "id": "084b9283-c156-4f89-b596-7f2a34bc1bfa",
   "metadata": {},
   "outputs": [
    {
     "name": "stdout",
     "output_type": "stream",
     "text": [
      "Generating Step: 5\n",
      "Generating Step: 10\n",
      "Generating Step: 15\n",
      "Generating Step: 20\n",
      "Generating Step: 25\n",
      "Generating Step: 30\n",
      "Generating Step: 35\n",
      "Generating Step: 40\n",
      "Generating Step: 45\n",
      "Generating Step: 50\n",
      "Generating Step: 55\n",
      "Generating Step: 60\n",
      "Generating Step: 65\n",
      "Generating Step: 70\n",
      "Generating Step: 75\n",
      "Generating Step: 80\n",
      "Generating Step: 85\n",
      "Generating Step: 90\n",
      "Generating Step: 95\n",
      "Generating Step: 100\n",
      "Generating Step: 105\n",
      "Generating Step: 110\n",
      "Generating Step: 115\n",
      "Generating Step: 120\n",
      "Generating Step: 125\n",
      "Generating Step: 130\n",
      "Generating Step: 135\n",
      "Generating Step: 140\n",
      "Generating Step: 145\n",
      "Generating Step: 150\n"
     ]
    },
    {
     "ename": "NameError",
     "evalue": "name 'done' is not defined",
     "output_type": "error",
     "traceback": [
      "\u001b[1;31m---------------------------------------------------------------------------\u001b[0m",
      "\u001b[1;31mNameError\u001b[0m                                 Traceback (most recent call last)",
      "Input \u001b[1;32mIn [3]\u001b[0m, in \u001b[0;36m<cell line: 48>\u001b[1;34m()\u001b[0m\n\u001b[0;32m     46\u001b[0m     generate_image(payload, \u001b[38;5;124mf\u001b[39m\u001b[38;5;124m\"\u001b[39m\u001b[38;5;132;01m{\u001b[39;00mpayload[\u001b[38;5;124m'\u001b[39m\u001b[38;5;124mseed\u001b[39m\u001b[38;5;124m'\u001b[39m]\u001b[38;5;132;01m}\u001b[39;00m\u001b[38;5;124m_\u001b[39m\u001b[38;5;132;01m{\u001b[39;00mstep\u001b[38;5;132;01m}\u001b[39;00m\u001b[38;5;124m\"\u001b[39m)\n\u001b[0;32m     47\u001b[0m     step\u001b[38;5;241m+\u001b[39m\u001b[38;5;241m=\u001b[39m\u001b[38;5;241m5\u001b[39m\n\u001b[1;32m---> 48\u001b[0m \u001b[38;5;28mprint\u001b[39m(\u001b[43mdone\u001b[49m)\n",
      "\u001b[1;31mNameError\u001b[0m: name 'done' is not defined"
     ]
    }
   ],
   "source": [
    "import json\n",
    "import requests\n",
    "import io\n",
    "import base64\n",
    "from PIL import Image, PngImagePlugin\n",
    "\n",
    "url = \"http://127.0.0.1:7860\"\n",
    "\n",
    "payload = {\n",
    "  \"enable_hr\": False,\n",
    "  #\"denoising_strength\": 0,\n",
    "  #\"firstphase_width\": 0,\n",
    "  #\"firstphase_height\": 0,\n",
    "  \"prompt\": \"linus_wd1, detailed background, forest, underwear, plantigrade, photorealistic, natural lighting, masterpiece, high quality, uploaded on e621, anthro, detailed fluffy fur, hi res, highres, (detailed eyes), highly detailed fur, hi_res, plantigrade, photorealistic, natural lighting, masterpiece, high quality, uploaded on e621, anthro, detailed fluffy fur, hi res, highres, (detailed eyes), highly detailed fur, hi_res\",\n",
    "  \"negative_prompt\": \"deformed, blurry, bad, disfigured, poor, mutation, mutated, ugly, horror, out of focus, depth of field, focal blur, worst quality, low quality, normal quality, deformed, blurry, bad, disfigured, poor, mutation, mutated, ugly, horror, out of focus, depth of field, focal blur, worst quality, low quality, normal quality\",\n",
    "  #\"styles\": [\n",
    "  #  \"string\"\n",
    "  #],\n",
    "  \"seed\": 3719466931,\n",
    "  #\"subseed\": -1,\n",
    "  #\"subseed_strength\": 0,\n",
    "  #\"seed_resize_from_h\": -1,\n",
    "  #\"seed_resize_from_w\": -1,\n",
    "  #\"sampler_name\": \"string\",\n",
    "  \"batch_size\": 1,\n",
    "  \"n_iter\": 1,\n",
    "  \"steps\": 50,\n",
    "  \"cfg_scale\": 7,\n",
    "  \"width\": 512,\n",
    "  \"height\": 512,\n",
    "  \"restore_faces\": False,\n",
    "  \"tiling\": False,\n",
    "  #\"eta\": 0,\n",
    "  #\"s_churn\": 0,\n",
    "  #\"s_tmax\": 0,\n",
    "  #\"s_tmin\": 0,\n",
    "  #\"s_noise\": 1,\n",
    "  #\"override_settings\": {},\n",
    "  \"sampler_index\": \"Euler a\"\n",
    "}\n",
    "\n",
    "step = 5\n",
    "while step <= 150:\n",
    "    print(f\"Generating Step: {step}\")\n",
    "    payload[\"steps\"] = step\n",
    "    generate_image(payload, f\"{payload['seed']}_{step}\")\n",
    "    step+=5\n",
    "print(\"done\")"
   ]
  },
  {
   "cell_type": "code",
   "execution_count": null,
   "id": "0b0b7707-b1d2-468b-8524-6dec78acd50c",
   "metadata": {},
   "outputs": [],
   "source": []
  }
 ],
 "metadata": {
  "kernelspec": {
   "display_name": "Python 3 (ipykernel)",
   "language": "python",
   "name": "python3"
  },
  "language_info": {
   "codemirror_mode": {
    "name": "ipython",
    "version": 3
   },
   "file_extension": ".py",
   "mimetype": "text/x-python",
   "name": "python",
   "nbconvert_exporter": "python",
   "pygments_lexer": "ipython3",
   "version": "3.10.8"
  }
 },
 "nbformat": 4,
 "nbformat_minor": 5
}
