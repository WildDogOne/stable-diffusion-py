{
 "cells": [
  {
   "cell_type": "code",
   "execution_count": 11,
   "id": "c5dd5c2f-3c07-4097-ba2d-d272051c7051",
   "metadata": {},
   "outputs": [],
   "source": [
    "def generate_image(payload, outfile):\n",
    "    response = requests.post(url=f'{url}/sdapi/v1/txt2img', json=payload)\n",
    "\n",
    "    r = response.json()\n",
    "\n",
    "    for i in r['images']:\n",
    "        image = Image.open(io.BytesIO(base64.b64decode(i.split(\",\",1)[0])))\n",
    "\n",
    "        png_payload = {\n",
    "            \"image\": \"data:image/png;base64,\" + i\n",
    "        }\n",
    "        response2 = requests.post(url=f'{url}/sdapi/v1/png-info', json=png_payload)\n",
    "\n",
    "        pnginfo = PngImagePlugin.PngInfo()\n",
    "        pnginfo.add_text(\"parameters\", response2.json().get(\"info\"))\n",
    "        image.save('steps/'+str(outfile)+'.png', pnginfo=pnginfo)"
   ]
  },
  {
   "cell_type": "code",
   "execution_count": 14,
   "id": "084b9283-c156-4f89-b596-7f2a34bc1bfa",
   "metadata": {},
   "outputs": [],
   "source": [
    "import json\n",
    "import requests\n",
    "import io\n",
    "import base64\n",
    "from PIL import Image, PngImagePlugin\n",
    "\n",
    "url = \"http://127.0.0.1:7860\"\n",
    "\n",
    "payload = {\n",
    "  \"enable_hr\": False,\n",
    "  #\"denoising_strength\": 0,\n",
    "  #\"firstphase_width\": 0,\n",
    "  #\"firstphase_height\": 0,\n",
    "  \"prompt\": \"furry fox, furry wolf, furry african wild dog, cute,plantigrade,photorealistic,natural lighting, masterpiece,high quality,uploaded on e621,anthro,detailed fluffy fur,hi res,highres,(detailed eyes), highres,highly detailed fur,hi_res,three, group of three characters\",\n",
    "  #\"styles\": [\n",
    "  #  \"string\"\n",
    "  #],\n",
    "  \"seed\": 3388302370,\n",
    "  #\"subseed\": -1,\n",
    "  #\"subseed_strength\": 0,\n",
    "  #\"seed_resize_from_h\": -1,\n",
    "  #\"seed_resize_from_w\": -1,\n",
    "  #\"sampler_name\": \"string\",\n",
    "  \"batch_size\": 1,\n",
    "  \"n_iter\": 1,\n",
    "  \"steps\": 50,\n",
    "  \"cfg_scale\": 7,\n",
    "  \"width\": 512,\n",
    "  \"height\": 512,\n",
    "  \"restore_faces\": False,\n",
    "  \"tiling\": False,\n",
    "  \"negative_prompt\": \"deformed,blurry,bad,disfigured,poor,mutation,mutated,ugly,horror,out of focus,depth of field,focal blur,worst quality, worst quality,low quality,normal quality, explicit, explict, boobs, vagina\",\n",
    "  #\"eta\": 0,\n",
    "  #\"s_churn\": 0,\n",
    "  #\"s_tmax\": 0,\n",
    "  #\"s_tmin\": 0,\n",
    "  #\"s_noise\": 1,\n",
    "  #\"override_settings\": {},\n",
    "  \"sampler_index\": \"Euler a\"\n",
    "}\n",
    "\n",
    "step = 10\n",
    "while step <= 150:\n",
    "    #print(step)\n",
    "    payload[\"steps\"] = step\n",
    "    generate_image(payload, f\"{payload['seed']}_{step}\")\n",
    "    step+=10\n",
    "#"
   ]
  },
  {
   "cell_type": "code",
   "execution_count": null,
   "id": "0b0b7707-b1d2-468b-8524-6dec78acd50c",
   "metadata": {},
   "outputs": [],
   "source": []
  }
 ],
 "metadata": {
  "kernelspec": {
   "display_name": "Python 3 (ipykernel)",
   "language": "python",
   "name": "python3"
  },
  "language_info": {
   "codemirror_mode": {
    "name": "ipython",
    "version": 3
   },
   "file_extension": ".py",
   "mimetype": "text/x-python",
   "name": "python",
   "nbconvert_exporter": "python",
   "pygments_lexer": "ipython3",
   "version": "3.10.8"
  }
 },
 "nbformat": 4,
 "nbformat_minor": 5
}
